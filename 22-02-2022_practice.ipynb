{
 "cells": [
  {
   "cell_type": "code",
   "execution_count": 4,
   "metadata": {},
   "outputs": [
    {
     "name": "stdout",
     "output_type": "stream",
     "text": [
      "You Entered weight in pound\n",
      "weight in Kilogram =  27.45\n"
     ]
    }
   ],
   "source": [
    "weight=int(input(\"Enter your Weight: \"))\n",
    "unit= input(\"Write your unit of weight for kilogram write kg and for pound write lb : \")\n",
    "if unit=='lb':\n",
    "        lb=weight*0.453\n",
    "        print(\"You Entered weight in pound\")\n",
    "        print(\"weight in Kilogram = \",lb)\n",
    "elif unit=='kg':\n",
    "        kg=weight*2.206\n",
    "        print(\"you Entered weight in Kilogram\")\n",
    "        print(\"Weight in Pound is = \",kg)\n",
    "else:\n",
    "        print(\"Invalid Input\")"
   ]
  },
  {
   "cell_type": "code",
   "execution_count": 3,
   "metadata": {},
   "outputs": [
    {
     "name": "stdout",
     "output_type": "stream",
     "text": [
      "19cs49\n",
      "19cs49\n",
      "19cs49\n",
      "19cs49\n",
      "19cs49\n",
      "19cs49\n",
      "19cs49\n",
      "19cs49\n",
      "19cs49\n",
      "19cs49\n"
     ]
    }
   ],
   "source": [
    "# While Loop\n",
    "i=10\n",
    "while(i!=0):\n",
    "        print(\"19cs49\")\n",
    "        i-=1\n"
   ]
  },
  {
   "cell_type": "code",
   "execution_count": 4,
   "metadata": {},
   "outputs": [
    {
     "name": "stdout",
     "output_type": "stream",
     "text": [
      "19cs49\n",
      "19cs49\n",
      "19cs49\n",
      "19cs49\n",
      "19cs49\n",
      "19cs49\n",
      "19cs49\n",
      "19cs49\n",
      "19cs49\n"
     ]
    }
   ],
   "source": [
    "i=1\n",
    "for i in range(1,10):\n",
    "        print(\"19cs49\")\n",
    "        i+=1"
   ]
  },
  {
   "cell_type": "code",
   "execution_count": 16,
   "metadata": {},
   "outputs": [
    {
     "ename": "SyntaxError",
     "evalue": "invalid syntax (4176808867.py, line 2)",
     "output_type": "error",
     "traceback": [
      "\u001b[1;36m  Input \u001b[1;32mIn [16]\u001b[1;36m\u001b[0m\n\u001b[1;33m    for i==True in range(-1,10):\u001b[0m\n\u001b[1;37m                               ^\u001b[0m\n\u001b[1;31mSyntaxError\u001b[0m\u001b[1;31m:\u001b[0m invalid syntax\n"
     ]
    }
   ],
   "source": [
    "i=10\n",
    "for i==True in range(-1,10):\n",
    "        print('19cs49')\n",
    "        i-=1"
   ]
  },
  {
   "cell_type": "code",
   "execution_count": 25,
   "metadata": {},
   "outputs": [
    {
     "name": "stdout",
     "output_type": "stream",
     "text": [
      "Sum of all Inputs between 30 and 50 is :  560\n"
     ]
    }
   ],
   "source": [
    "a=int(input(\"Enter a Number\"))\n",
    "c=0\n",
    "while(a<500):\n",
    "        #a=int(input(\"Enter a Number\"))\n",
    "        a+=a\n",
    "print('Sum of all Inputs between 30 and 50 is : ',a)"
   ]
  },
  {
   "cell_type": "code",
   "execution_count": 34,
   "metadata": {},
   "outputs": [],
   "source": [
    "list=['Jan','Feb','Mar','Apr','May','Jun','Jul','Aug','Sep','Oct','Nov','Dec']\n",
    "while(list):\n",
    "        print(lis.index)\n"
   ]
  },
  {
   "cell_type": "code",
   "execution_count": 37,
   "metadata": {},
   "outputs": [
    {
     "name": "stdout",
     "output_type": "stream",
     "text": [
      "Number after moodificaion is:  <built-in function sum>\n"
     ]
    }
   ],
   "source": [
    "num=int(input('Enter a Number'))\n",
    "while(num<10 and num>20):\n",
    "        if num<10:\n",
    "                num+=10\n",
    "        elif num>20:\n",
    "                num+=20\n",
    "print('Number after moodificaion is: ',sum)"
   ]
  },
  {
   "cell_type": "code",
   "execution_count": 41,
   "metadata": {},
   "outputs": [
    {
     "name": "stdout",
     "output_type": "stream",
     "text": [
      "0\n",
      "1\n",
      "1\n",
      "2\n",
      "3\n",
      "5\n",
      "8\n",
      "13\n",
      "21\n",
      "34\n",
      "55\n",
      "89\n",
      "144\n",
      "233\n",
      "377\n",
      "610\n",
      "987\n",
      "1597\n",
      "2584\n",
      "4181\n",
      "6765\n",
      "10946\n"
     ]
    }
   ],
   "source": [
    "# fabonnacci series = 0,1,1,2,3,5,8,13,21,..\n",
    "first_num=0\n",
    "second_num=1\n",
    "i=1\n",
    "print(first_num)\n",
    "print(second_num)\n",
    "while(i<=20):\n",
    "        new_num=first_num+second_num\n",
    "        print(new_num)\n",
    "        first_num=second_num\n",
    "        second_num=new_num\n",
    "        i+=1"
   ]
  },
  {
   "cell_type": "code",
   "execution_count": 62,
   "metadata": {},
   "outputs": [
    {
     "ename": "TypeError",
     "evalue": "'str' object is not callable",
     "output_type": "error",
     "traceback": [
      "\u001b[1;31m---------------------------------------------------------------------------\u001b[0m",
      "\u001b[1;31mTypeError\u001b[0m                                 Traceback (most recent call last)",
      "\u001b[1;32md:\\Gul Munir Hassan\\NAVTTC\\22-02-2022\\practice.ipynb Cell 9'\u001b[0m in \u001b[0;36m<module>\u001b[1;34m\u001b[0m\n\u001b[0;32m      <a href='vscode-notebook-cell:/d%3A/Gul%20Munir%20Hassan/NAVTTC/22-02-2022/practice.ipynb#ch0000008?line=1'>2</a>\u001b[0m i\u001b[39m=\u001b[39m\u001b[39m0\u001b[39m\n\u001b[0;32m      <a href='vscode-notebook-cell:/d%3A/Gul%20Munir%20Hassan/NAVTTC/22-02-2022/practice.ipynb#ch0000008?line=2'>3</a>\u001b[0m \u001b[39mfor\u001b[39;00m i \u001b[39min\u001b[39;00m \u001b[39mrange\u001b[39m(\u001b[39m0\u001b[39m,\u001b[39mlen\u001b[39m(mesg1)):\n\u001b[1;32m----> <a href='vscode-notebook-cell:/d%3A/Gul%20Munir%20Hassan/NAVTTC/22-02-2022/practice.ipynb#ch0000008?line=3'>4</a>\u001b[0m         encoded\u001b[39m=\u001b[39m\u001b[39mint\u001b[39m(mesg1(i))\u001b[39m+\u001b[39m\u001b[39mint\u001b[39m(\u001b[39m2\u001b[39m)\n\u001b[0;32m      <a href='vscode-notebook-cell:/d%3A/Gul%20Munir%20Hassan/NAVTTC/22-02-2022/practice.ipynb#ch0000008?line=4'>5</a>\u001b[0m         i\u001b[39m+\u001b[39m\u001b[39m=\u001b[39m\u001b[39m1\u001b[39m\n\u001b[0;32m      <a href='vscode-notebook-cell:/d%3A/Gul%20Munir%20Hassan/NAVTTC/22-02-2022/practice.ipynb#ch0000008?line=5'>6</a>\u001b[0m \u001b[39mprint\u001b[39m(\u001b[39m\"\u001b[39m\u001b[39mEncoded Message is: \u001b[39m\u001b[39m\"\u001b[39m,encoded)\n",
      "\u001b[1;31mTypeError\u001b[0m: 'str' object is not callable"
     ]
    }
   ],
   "source": [
    "mesg1=input('Enter Your Message to Encode: ')\n",
    "i=0\n",
    "for i in range(0,len(mesg1)):\n",
    "        encoded=mesg1(i)+int(2)\n",
    "        i+=1\n",
    "print(\"Encoded Message is: \",encoded)"
   ]
  },
  {
   "cell_type": "code",
   "execution_count": null,
   "metadata": {},
   "outputs": [],
   "source": [
    "num=int(input('Enter a Number'))\n",
    "i=0\n",
    "for i in range(0,len(num))"
   ]
  },
  {
   "cell_type": "code",
   "execution_count": null,
   "metadata": {},
   "outputs": [],
   "source": [
    "PSL Dataset\n",
    "successfull player\n",
    "successfull bowler\n",
    "missing values\n"
   ]
  }
 ],
 "metadata": {
  "interpreter": {
   "hash": "645f105cfdf942b62933a73635a428a85841f405aeffee3eacace5554a65e9b0"
  },
  "kernelspec": {
   "display_name": "Python 3.10.0 64-bit",
   "language": "python",
   "name": "python3"
  },
  "language_info": {
   "codemirror_mode": {
    "name": "ipython",
    "version": 3
   },
   "file_extension": ".py",
   "mimetype": "text/x-python",
   "name": "python",
   "nbconvert_exporter": "python",
   "pygments_lexer": "ipython3",
   "version": "3.10.0"
  },
  "orig_nbformat": 4
 },
 "nbformat": 4,
 "nbformat_minor": 2
}
