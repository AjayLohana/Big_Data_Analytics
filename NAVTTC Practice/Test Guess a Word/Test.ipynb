{
 "cells": [
  {
   "cell_type": "markdown",
   "metadata": {},
   "source": [
    "# Test"
   ]
  },
  {
   "cell_type": "markdown",
   "metadata": {},
   "source": [
    "Guess the Word Game"
   ]
  },
  {
   "cell_type": "code",
   "execution_count": 52,
   "metadata": {},
   "outputs": [
    {
     "name": "stdout",
     "output_type": "stream",
     "text": [
      "*** Welcome to 6 Character Word Guess Game ***\n",
      "Remaining Guesses :  9\n",
      "Remaining Guesses :  8\n",
      "Remaining Guesses :  7\n",
      "Remaining Guesses :  6\n",
      "Remaining Guesses :  5\n",
      "Remaining Guesses :  4\n",
      "Remaining Guesses :  3\n",
      "Remaining Guesses :  2\n",
      "Remaining Guesses :  1\n",
      "Remaining Guesses :  0\n"
     ]
    }
   ],
   "source": [
    "import random\n",
    "\n",
    "words_6_characters=['actual','across','afraid','agency','afford','action','agenda','always']\n",
    "words_10_characters=['strawberry','friendship','everything','appreciate','motivation','jazzercise','maximizing','minimizing']\n",
    "\n",
    "user_input=input(\"Enter Your Name: \")\n",
    "user_choice=int(input(\"Chose from following Options: \\n 1. 6 Character Word Guess \\n 2. 10 Character Word Guess\"))\n",
    "p=0 #testing variable used in for loop\n",
    "c=10 # counting variable used for guessing numbers\n",
    "if user_choice==1: \n",
    "        print(\"*** Welcome to 6 Character Word Guess Game ***\")\n",
    "        word=random.choice(words_6_characters)\n",
    "        for count in range(0,10):\n",
    "                user_input1=input(\"Enter a Character to guess the word: \")\n",
    "                if user_input1 in word:\n",
    "                        c-=1\n",
    "                        print(\" Well Done, Congratulations You Guessed Correct \")\n",
    "                        print(\" Index of character is : \",word.index(user_input1))\n",
    "                        print(\"The random word selected is: \",word)\n",
    "                        p=1\n",
    "                        break\n",
    "                elif user_input1 not in word:\n",
    "                        c-=1\n",
    "                        print(\"Remaining Guesses : \",c)\n",
    "                        continue\n",
    "        if p==0:\n",
    "                print(\"Sorry Better Luck Next Time\")\n",
    "elif user_choice==2:\n",
    "        print(\"*** Welcome to 6 Character Word Guess Game ***\")\n",
    "        word=random.choice(words_10_characters)\n",
    "        for count in range(0,10):\n",
    "                user_input1=input(\"Enter a Character to guess the word: \")\n",
    "                if user_input1 in word:\n",
    "                        c-=1\n",
    "                        print(\" Well Done, Congratulations You Guessed Correct \")\n",
    "                        print(\" Index of character is : \",word.index(user_input1))\n",
    "                        print(\"The random word selected is: \",word)\n",
    "                        p=1\n",
    "                        break\n",
    "                elif user_input1 not in word:\n",
    "                        c-=1\n",
    "                        print(\"Remaining Guesses : \",c)\n",
    "                        continue\n",
    "        if p==0:\n",
    "                print(\"Sorry Better Luck Next Time\")\n",
    "else:\n",
    "        print(\"Invalid Input\")\n"
   ]
  },
  {
   "cell_type": "code",
   "execution_count": null,
   "metadata": {},
   "outputs": [],
   "source": [
    "\n"
   ]
  },
  {
   "cell_type": "code",
   "execution_count": null,
   "metadata": {},
   "outputs": [],
   "source": []
  },
  {
   "cell_type": "code",
   "execution_count": null,
   "metadata": {},
   "outputs": [],
   "source": []
  }
 ],
 "metadata": {
  "interpreter": {
   "hash": "645f105cfdf942b62933a73635a428a85841f405aeffee3eacace5554a65e9b0"
  },
  "kernelspec": {
   "display_name": "Python 3.10.0 64-bit",
   "language": "python",
   "name": "python3"
  },
  "language_info": {
   "codemirror_mode": {
    "name": "ipython",
    "version": 3
   },
   "file_extension": ".py",
   "mimetype": "text/x-python",
   "name": "python",
   "nbconvert_exporter": "python",
   "pygments_lexer": "ipython3",
   "version": "3.10.0"
  },
  "orig_nbformat": 4
 },
 "nbformat": 4,
 "nbformat_minor": 2
}
