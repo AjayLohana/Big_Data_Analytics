{
 "cells": [
  {
   "cell_type": "code",
   "execution_count": 9,
   "metadata": {},
   "outputs": [
    {
     "name": "stdout",
     "output_type": "stream",
     "text": [
      "'Data Scientist'\n"
     ]
    }
   ],
   "source": [
    "print(\"'Data Scientist'\")"
   ]
  },
  {
   "cell_type": "code",
   "execution_count": 11,
   "metadata": {},
   "outputs": [
    {
     "name": "stdout",
     "output_type": "stream",
     "text": [
      "Data Scientist\n"
     ]
    }
   ],
   "source": [
    "print('Data Scientist')"
   ]
  },
  {
   "cell_type": "code",
   "execution_count": 12,
   "metadata": {},
   "outputs": [
    {
     "name": "stdout",
     "output_type": "stream",
     "text": [
      "Hello WOrld\n"
     ]
    }
   ],
   "source": [
    "print(\"Hello WOrld\")"
   ]
  },
  {
   "cell_type": "code",
   "execution_count": 13,
   "metadata": {},
   "outputs": [
    {
     "name": "stdout",
     "output_type": "stream",
     "text": [
      "*****\n"
     ]
    }
   ],
   "source": [
    "print('*'*5)"
   ]
  },
  {
   "cell_type": "code",
   "execution_count": 18,
   "metadata": {},
   "outputs": [
    {
     "name": "stdout",
     "output_type": "stream",
     "text": [
      "19CS49 19CS49 19CS49 19CS49 19CS49 \n"
     ]
    }
   ],
   "source": [
    "print('19CS49 '*5)"
   ]
  },
  {
   "cell_type": "code",
   "execution_count": 20,
   "metadata": {},
   "outputs": [],
   "source": [
    "price=10\n",
    "rating=4.9\n",
    "name=\"Munir\"\n",
    "is_published=False\n"
   ]
  },
  {
   "cell_type": "code",
   "execution_count": 34,
   "metadata": {},
   "outputs": [
    {
     "name": "stdout",
     "output_type": "stream",
     "text": [
      "MUET Administration\n",
      "Student Information\n",
      "Name: Hamza\n",
      "Age: 20\n",
      "Status: New\n"
     ]
    }
   ],
   "source": [
    "name=\"Hamza\"\n",
    "age =\"20\"\n",
    "New_Student=True \n",
    "if New_Student==True:\n",
    "        status='New'\n",
    "print(\"MUET Administration\")\n",
    "print(\"Student Information\")\n",
    "print(\"Name: \"+name)\n",
    "print(\"Age: \"+age)\n",
    "print(\"Status: \"+status)"
   ]
  },
  {
   "cell_type": "code",
   "execution_count": 36,
   "metadata": {},
   "outputs": [
    {
     "name": "stdout",
     "output_type": "stream",
     "text": [
      "Age =  24\n"
     ]
    }
   ],
   "source": [
    "current_year = 2022\n",
    "yob='1998'\n",
    "age=current_year-int(yob)\n",
    "print(\"Age = \",age)"
   ]
  },
  {
   "cell_type": "code",
   "execution_count": 40,
   "metadata": {},
   "outputs": [
    {
     "name": "stdout",
     "output_type": "stream",
     "text": [
      "3 3 3.0\n"
     ]
    }
   ],
   "source": [
    "x=str(3)\n",
    "y=int(3)\n",
    "z=float(3)\n",
    "print(x,y,z)"
   ]
  },
  {
   "cell_type": "code",
   "execution_count": 46,
   "metadata": {},
   "outputs": [
    {
     "name": "stdout",
     "output_type": "stream",
     "text": [
      "Your Number is:  6\n"
     ]
    }
   ],
   "source": [
    "vol=input(\"Enter a Number: \")\n",
    "print(\"Your Number is: \",vol)"
   ]
  },
  {
   "cell_type": "code",
   "execution_count": 19,
   "metadata": {},
   "outputs": [
    {
     "name": "stdout",
     "output_type": "stream",
     "text": [
      "Requirement already satisfied: scipy in c:\\users\\munna\\appdata\\local\\programs\\python\\python310\\lib\\site-packages (1.7.3)Note: you may need to restart the kernel to use updated packages.\n"
     ]
    },
    {
     "name": "stderr",
     "output_type": "stream",
     "text": [
      "WARNING: You are using pip version 22.0.2; however, version 22.0.4 is available.\n",
      "You should consider upgrading via the 'C:\\Users\\MUNNA\\AppData\\Local\\Programs\\Python\\Python310\\python.exe -m pip install --upgrade pip' command.\n"
     ]
    },
    {
     "name": "stdout",
     "output_type": "stream",
     "text": [
      "\n",
      "Requirement already satisfied: numpy<1.23.0,>=1.16.5 in c:\\users\\munna\\appdata\\local\\programs\\python\\python310\\lib\\site-packages (from scipy) (1.22.1)\n"
     ]
    }
   ],
   "source": [
    "pip install scipy"
   ]
  },
  {
   "cell_type": "code",
   "execution_count": 41,
   "metadata": {},
   "outputs": [
    {
     "name": "stdout",
     "output_type": "stream",
     "text": [
      "Median =  49.5\n",
      "Mean =  54.3\n",
      "Mode=  ModeResult(mode=array([34]), count=array([2]))\n",
      "Standard Deviation=  21.577998053572994\n",
      "Variance=  465.60999999999996\n",
      "Skewness=  0.2838502432994961\n"
     ]
    }
   ],
   "source": [
    "import numpy as np\n",
    "import scipy as sc\n",
    "from scipy  import stats \n",
    "from scipy.stats import skew\n",
    "#a=[10,12,14,16,18,20,10,10,16,18,16,16]\n",
    "a=[22,34,67,89,44,34,67,45,87,54]\n",
    "mean=np.mean(a)\n",
    "median=np.median(a)\n",
    "Mode=sc.stats.mode(a)\n",
    "standard_deviation=np.std(a)\n",
    "variance=np.var(a)\n",
    "print(\"Median = \",median)\n",
    "print(\"Mean = \",mean)\n",
    "print(\"Mode= \",Mode)\n",
    "print(\"Standard Deviation= \",standard_deviation)\n",
    "print(\"Variance= \",variance)\n",
    "print(\"Skewness= \",skew(a))\n"
   ]
  },
  {
   "cell_type": "code",
   "execution_count": 44,
   "metadata": {},
   "outputs": [
    {
     "name": "stdout",
     "output_type": "stream",
     "text": [
      "\n",
      "Skewness for data :  0.2838502432994961\n"
     ]
    },
    {
     "data": {
      "image/png": "[encoded data removed]",
      "text/plain": [
       "<Figure size 432x288 with 1 Axes>"
      ]
     },
     "metadata": {
      "needs_background": "light"
     },
     "output_type": "display_data"
    }
   ],
   "source": [
    "# Graph using numpy.linspace() \n",
    "# finding Skewness\n",
    "  \n",
    "from scipy.stats import skew\n",
    "import numpy as np \n",
    "import pylab as p \n",
    "  \n",
    "x1 = np.linspace( -5, 12, 1000 )\n",
    "y1 = 1./(np.sqrt(2.*np.pi)) * np.exp( -.5*(x1)**2  )\n",
    "  \n",
    "p.plot(x1, y1, '.')\n",
    "  \n",
    "print( '\\nSkewness for data : ', skew(a))\n"
   ]
  },
  {
   "cell_type": "code",
   "execution_count": null,
   "metadata": {},
   "outputs": [],
   "source": []
  }
 ],
 "metadata": {
  "interpreter": {
   "hash": "645f105cfdf942b62933a73635a428a85841f405aeffee3eacace5554a65e9b0"
  },
  "kernelspec": {
   "display_name": "Python 3.10.0 64-bit",
   "language": "python",
   "name": "python3"
  },
  "language_info": {
   "codemirror_mode": {
    "name": "ipython",
    "version": 3
   },
   "file_extension": ".py",
   "mimetype": "text/x-python",
   "name": "python",
   "nbconvert_exporter": "python",
   "pygments_lexer": "ipython3",
   "version": "3.10.0"
  },
  "orig_nbformat": 4
 },
 "nbformat": 4,
 "nbformat_minor": 2
}
