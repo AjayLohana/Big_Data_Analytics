{
 "cells": [
  {
   "cell_type": "code",
   "execution_count": 3,
   "metadata": {},
   "outputs": [
    {
     "data": {
      "text/html": [
       "<div>\n",
       "<style scoped>\n",
       "    .dataframe tbody tr th:only-of-type {\n",
       "        vertical-align: middle;\n",
       "    }\n",
       "\n",
       "    .dataframe tbody tr th {\n",
       "        vertical-align: top;\n",
       "    }\n",
       "\n",
       "    .dataframe thead th {\n",
       "        text-align: right;\n",
       "    }\n",
       "</style>\n",
       "<table border=\"1\" class=\"dataframe\">\n",
       "  <thead>\n",
       "    <tr style=\"text-align: right;\">\n",
       "      <th></th>\n",
       "      <th>center</th>\n",
       "      <th>left</th>\n",
       "      <th>right</th>\n",
       "      <th>steering</th>\n",
       "      <th>throttle</th>\n",
       "      <th>brake</th>\n",
       "      <th>speed</th>\n",
       "    </tr>\n",
       "  </thead>\n",
       "  <tbody>\n",
       "    <tr>\n",
       "      <th>5495</th>\n",
       "      <td>IMG/center_2016_12_01_13_42_24_149.jpg</td>\n",
       "      <td>IMG/left_2016_12_01_13_42_24_149.jpg</td>\n",
       "      <td>IMG/right_2016_12_01_13_42_24_149.jpg</td>\n",
       "      <td>0.000000</td>\n",
       "      <td>0.985533</td>\n",
       "      <td>0.0</td>\n",
       "      <td>30.18662</td>\n",
       "    </tr>\n",
       "    <tr>\n",
       "      <th>6055</th>\n",
       "      <td>IMG/center_2016_12_01_13_43_20_883.jpg</td>\n",
       "      <td>IMG/left_2016_12_01_13_43_20_883.jpg</td>\n",
       "      <td>IMG/right_2016_12_01_13_43_20_883.jpg</td>\n",
       "      <td>0.023486</td>\n",
       "      <td>0.985533</td>\n",
       "      <td>0.0</td>\n",
       "      <td>30.18620</td>\n",
       "    </tr>\n",
       "    <tr>\n",
       "      <th>5585</th>\n",
       "      <td>IMG/center_2016_12_01_13_42_33_260.jpg</td>\n",
       "      <td>IMG/left_2016_12_01_13_42_33_260.jpg</td>\n",
       "      <td>IMG/right_2016_12_01_13_42_33_260.jpg</td>\n",
       "      <td>0.000000</td>\n",
       "      <td>0.985533</td>\n",
       "      <td>0.0</td>\n",
       "      <td>30.18661</td>\n",
       "    </tr>\n",
       "    <tr>\n",
       "      <th>117</th>\n",
       "      <td>IMG/center_2016_12_01_13_32_50_121.jpg</td>\n",
       "      <td>IMG/left_2016_12_01_13_32_50_121.jpg</td>\n",
       "      <td>IMG/right_2016_12_01_13_32_50_121.jpg</td>\n",
       "      <td>0.000000</td>\n",
       "      <td>0.985533</td>\n",
       "      <td>0.0</td>\n",
       "      <td>30.18692</td>\n",
       "    </tr>\n",
       "    <tr>\n",
       "      <th>467</th>\n",
       "      <td>IMG/center_2016_12_01_13_33_25_551.jpg</td>\n",
       "      <td>IMG/left_2016_12_01_13_33_25_551.jpg</td>\n",
       "      <td>IMG/right_2016_12_01_13_33_25_551.jpg</td>\n",
       "      <td>0.000000</td>\n",
       "      <td>0.985533</td>\n",
       "      <td>0.0</td>\n",
       "      <td>30.18609</td>\n",
       "    </tr>\n",
       "    <tr>\n",
       "      <th>...</th>\n",
       "      <td>...</td>\n",
       "      <td>...</td>\n",
       "      <td>...</td>\n",
       "      <td>...</td>\n",
       "      <td>...</td>\n",
       "      <td>...</td>\n",
       "      <td>...</td>\n",
       "    </tr>\n",
       "    <tr>\n",
       "      <th>1077</th>\n",
       "      <td>IMG/center_2016_12_01_13_34_27_388.jpg</td>\n",
       "      <td>IMG/left_2016_12_01_13_34_27_388.jpg</td>\n",
       "      <td>IMG/right_2016_12_01_13_34_27_388.jpg</td>\n",
       "      <td>0.000000</td>\n",
       "      <td>0.985533</td>\n",
       "      <td>0.0</td>\n",
       "      <td>30.18636</td>\n",
       "    </tr>\n",
       "    <tr>\n",
       "      <th>6732</th>\n",
       "      <td>IMG/center_2016_12_01_13_44_29_584.jpg</td>\n",
       "      <td>IMG/left_2016_12_01_13_44_29_584.jpg</td>\n",
       "      <td>IMG/right_2016_12_01_13_44_29_584.jpg</td>\n",
       "      <td>0.000000</td>\n",
       "      <td>0.985533</td>\n",
       "      <td>0.0</td>\n",
       "      <td>30.18727</td>\n",
       "    </tr>\n",
       "    <tr>\n",
       "      <th>6664</th>\n",
       "      <td>IMG/center_2016_12_01_13_44_22_700.jpg</td>\n",
       "      <td>IMG/left_2016_12_01_13_44_22_700.jpg</td>\n",
       "      <td>IMG/right_2016_12_01_13_44_22_700.jpg</td>\n",
       "      <td>0.000000</td>\n",
       "      <td>0.985533</td>\n",
       "      <td>0.0</td>\n",
       "      <td>30.18664</td>\n",
       "    </tr>\n",
       "    <tr>\n",
       "      <th>6679</th>\n",
       "      <td>IMG/center_2016_12_01_13_44_24_219.jpg</td>\n",
       "      <td>IMG/left_2016_12_01_13_44_24_219.jpg</td>\n",
       "      <td>IMG/right_2016_12_01_13_44_24_219.jpg</td>\n",
       "      <td>-0.012285</td>\n",
       "      <td>0.985533</td>\n",
       "      <td>0.0</td>\n",
       "      <td>30.18658</td>\n",
       "    </tr>\n",
       "    <tr>\n",
       "      <th>2385</th>\n",
       "      <td>IMG/center_2016_12_01_13_36_40_022.jpg</td>\n",
       "      <td>IMG/left_2016_12_01_13_36_40_022.jpg</td>\n",
       "      <td>IMG/right_2016_12_01_13_36_40_022.jpg</td>\n",
       "      <td>0.000000</td>\n",
       "      <td>0.985533</td>\n",
       "      <td>0.0</td>\n",
       "      <td>30.18652</td>\n",
       "    </tr>\n",
       "  </tbody>\n",
       "</table>\n",
       "<p>1000 rows × 7 columns</p>\n",
       "</div>"
      ],
      "text/plain": [
       "                                      center  \\\n",
       "5495  IMG/center_2016_12_01_13_42_24_149.jpg   \n",
       "6055  IMG/center_2016_12_01_13_43_20_883.jpg   \n",
       "5585  IMG/center_2016_12_01_13_42_33_260.jpg   \n",
       "117   IMG/center_2016_12_01_13_32_50_121.jpg   \n",
       "467   IMG/center_2016_12_01_13_33_25_551.jpg   \n",
       "...                                      ...   \n",
       "1077  IMG/center_2016_12_01_13_34_27_388.jpg   \n",
       "6732  IMG/center_2016_12_01_13_44_29_584.jpg   \n",
       "6664  IMG/center_2016_12_01_13_44_22_700.jpg   \n",
       "6679  IMG/center_2016_12_01_13_44_24_219.jpg   \n",
       "2385  IMG/center_2016_12_01_13_36_40_022.jpg   \n",
       "\n",
       "                                       left  \\\n",
       "5495   IMG/left_2016_12_01_13_42_24_149.jpg   \n",
       "6055   IMG/left_2016_12_01_13_43_20_883.jpg   \n",
       "5585   IMG/left_2016_12_01_13_42_33_260.jpg   \n",
       "117    IMG/left_2016_12_01_13_32_50_121.jpg   \n",
       "467    IMG/left_2016_12_01_13_33_25_551.jpg   \n",
       "...                                     ...   \n",
       "1077   IMG/left_2016_12_01_13_34_27_388.jpg   \n",
       "6732   IMG/left_2016_12_01_13_44_29_584.jpg   \n",
       "6664   IMG/left_2016_12_01_13_44_22_700.jpg   \n",
       "6679   IMG/left_2016_12_01_13_44_24_219.jpg   \n",
       "2385   IMG/left_2016_12_01_13_36_40_022.jpg   \n",
       "\n",
       "                                       right  steering  throttle  brake  \\\n",
       "5495   IMG/right_2016_12_01_13_42_24_149.jpg  0.000000  0.985533    0.0   \n",
       "6055   IMG/right_2016_12_01_13_43_20_883.jpg  0.023486  0.985533    0.0   \n",
       "5585   IMG/right_2016_12_01_13_42_33_260.jpg  0.000000  0.985533    0.0   \n",
       "117    IMG/right_2016_12_01_13_32_50_121.jpg  0.000000  0.985533    0.0   \n",
       "467    IMG/right_2016_12_01_13_33_25_551.jpg  0.000000  0.985533    0.0   \n",
       "...                                      ...       ...       ...    ...   \n",
       "1077   IMG/right_2016_12_01_13_34_27_388.jpg  0.000000  0.985533    0.0   \n",
       "6732   IMG/right_2016_12_01_13_44_29_584.jpg  0.000000  0.985533    0.0   \n",
       "6664   IMG/right_2016_12_01_13_44_22_700.jpg  0.000000  0.985533    0.0   \n",
       "6679   IMG/right_2016_12_01_13_44_24_219.jpg -0.012285  0.985533    0.0   \n",
       "2385   IMG/right_2016_12_01_13_36_40_022.jpg  0.000000  0.985533    0.0   \n",
       "\n",
       "         speed  \n",
       "5495  30.18662  \n",
       "6055  30.18620  \n",
       "5585  30.18661  \n",
       "117   30.18692  \n",
       "467   30.18609  \n",
       "...        ...  \n",
       "1077  30.18636  \n",
       "6732  30.18727  \n",
       "6664  30.18664  \n",
       "6679  30.18658  \n",
       "2385  30.18652  \n",
       "\n",
       "[1000 rows x 7 columns]"
      ]
     },
     "execution_count": 3,
     "metadata": {},
     "output_type": "execute_result"
    }
   ],
   "source": [
    "import pandas as pd \n",
    "import numpy as np\n",
    "import seaborn as sns\n",
    "import matplotlib.pyplot as plt\n",
    "\n",
    "#load dataset\n",
    "\n",
    "self_dr_car=pd.read_csv('driving_log.csv')\n",
    "self_dr_car=self_dr_car.sample(1000) #As our data cotains 8036 instances and 7 columns so that to analyze this data set i have take only sample of 1000 instances \n",
    "\n",
    "self_dr_car"
   ]
  },
  {
   "cell_type": "code",
   "execution_count": 3,
   "metadata": {},
   "outputs": [
    {
     "name": "stdout",
     "output_type": "stream",
     "text": [
      "(1000, 7)\n",
      "Number of rows :  1000\n",
      "Number of Cols:  7\n"
     ]
    }
   ],
   "source": [
    "# DATA_SHAPE\n",
    "print(self_dr_car.shape)\n",
    "rows,cols = self_dr_car.shape\n",
    "print(\"Number of rows : \",rows) #instances \n",
    "print(\"Number of Cols: \",cols) #series \n"
   ]
  },
  {
   "cell_type": "code",
   "execution_count": 4,
   "metadata": {},
   "outputs": [
    {
     "name": "stdout",
     "output_type": "stream",
     "text": [
      "<class 'pandas.core.frame.DataFrame'>\n",
      "Int64Index: 1000 entries, 2752 to 7621\n",
      "Data columns (total 7 columns):\n",
      " #   Column    Non-Null Count  Dtype  \n",
      "---  ------    --------------  -----  \n",
      " 0   center    1000 non-null   object \n",
      " 1   left      1000 non-null   object \n",
      " 2   right     1000 non-null   object \n",
      " 3   steering  1000 non-null   float64\n",
      " 4   throttle  1000 non-null   float64\n",
      " 5   brake     1000 non-null   float64\n",
      " 6   speed     1000 non-null   float64\n",
      "dtypes: float64(4), object(3)\n",
      "memory usage: 62.5+ KB\n"
     ]
    }
   ],
   "source": [
    "# DATA STRUCTURES\n",
    "\n",
    "self_dr_car.info()\n"
   ]
  },
  {
   "cell_type": "code",
   "execution_count": 5,
   "metadata": {},
   "outputs": [
    {
     "data": {
      "text/plain": [
       "center      0\n",
       "left        0\n",
       "right       0\n",
       "steering    0\n",
       "throttle    0\n",
       "brake       0\n",
       "speed       0\n",
       "dtype: int64"
      ]
     },
     "execution_count": 5,
     "metadata": {},
     "output_type": "execute_result"
    }
   ],
   "source": [
    "# FINDING MISSING VALUES \n",
    "self_dr_car.isnull().sum()\n"
   ]
  },
  {
   "cell_type": "code",
   "execution_count": 6,
   "metadata": {},
   "outputs": [
    {
     "data": {
      "text/html": [
       "<div>\n",
       "<style scoped>\n",
       "    .dataframe tbody tr th:only-of-type {\n",
       "        vertical-align: middle;\n",
       "    }\n",
       "\n",
       "    .dataframe tbody tr th {\n",
       "        vertical-align: top;\n",
       "    }\n",
       "\n",
       "    .dataframe thead th {\n",
       "        text-align: right;\n",
       "    }\n",
       "</style>\n",
       "<table border=\"1\" class=\"dataframe\">\n",
       "  <thead>\n",
       "    <tr style=\"text-align: right;\">\n",
       "      <th></th>\n",
       "      <th>steering</th>\n",
       "      <th>throttle</th>\n",
       "      <th>brake</th>\n",
       "      <th>speed</th>\n",
       "    </tr>\n",
       "  </thead>\n",
       "  <tbody>\n",
       "    <tr>\n",
       "      <th>count</th>\n",
       "      <td>1000.000000</td>\n",
       "      <td>1000.000000</td>\n",
       "      <td>1000.000000</td>\n",
       "      <td>1000.000000</td>\n",
       "    </tr>\n",
       "    <tr>\n",
       "      <th>mean</th>\n",
       "      <td>0.001880</td>\n",
       "      <td>0.884595</td>\n",
       "      <td>0.002538</td>\n",
       "      <td>28.479010</td>\n",
       "    </tr>\n",
       "    <tr>\n",
       "      <th>std</th>\n",
       "      <td>0.118540</td>\n",
       "      <td>0.281572</td>\n",
       "      <td>0.046263</td>\n",
       "      <td>5.677464</td>\n",
       "    </tr>\n",
       "    <tr>\n",
       "      <th>min</th>\n",
       "      <td>-0.505992</td>\n",
       "      <td>0.000000</td>\n",
       "      <td>0.000000</td>\n",
       "      <td>0.528523</td>\n",
       "    </tr>\n",
       "    <tr>\n",
       "      <th>25%</th>\n",
       "      <td>0.000000</td>\n",
       "      <td>0.985533</td>\n",
       "      <td>0.000000</td>\n",
       "      <td>30.183455</td>\n",
       "    </tr>\n",
       "    <tr>\n",
       "      <th>50%</th>\n",
       "      <td>0.000000</td>\n",
       "      <td>0.985533</td>\n",
       "      <td>0.000000</td>\n",
       "      <td>30.186450</td>\n",
       "    </tr>\n",
       "    <tr>\n",
       "      <th>75%</th>\n",
       "      <td>0.000000</td>\n",
       "      <td>0.985533</td>\n",
       "      <td>0.000000</td>\n",
       "      <td>30.186640</td>\n",
       "    </tr>\n",
       "    <tr>\n",
       "      <th>max</th>\n",
       "      <td>0.492344</td>\n",
       "      <td>0.985533</td>\n",
       "      <td>1.000000</td>\n",
       "      <td>30.203420</td>\n",
       "    </tr>\n",
       "  </tbody>\n",
       "</table>\n",
       "</div>"
      ],
      "text/plain": [
       "          steering     throttle        brake        speed\n",
       "count  1000.000000  1000.000000  1000.000000  1000.000000\n",
       "mean      0.001880     0.884595     0.002538    28.479010\n",
       "std       0.118540     0.281572     0.046263     5.677464\n",
       "min      -0.505992     0.000000     0.000000     0.528523\n",
       "25%       0.000000     0.985533     0.000000    30.183455\n",
       "50%       0.000000     0.985533     0.000000    30.186450\n",
       "75%       0.000000     0.985533     0.000000    30.186640\n",
       "max       0.492344     0.985533     1.000000    30.203420"
      ]
     },
     "execution_count": 6,
     "metadata": {},
     "output_type": "execute_result"
    }
   ],
   "source": [
    "self_dr_car.describe()"
   ]
  },
  {
   "cell_type": "code",
   "execution_count": 2,
   "metadata": {},
   "outputs": [
    {
     "data": {
      "text/plain": [
       "<AxesSubplot:xlabel='steering', ylabel='Count'>"
      ]
     },
     "execution_count": 2,
     "metadata": {},
     "output_type": "execute_result"
    },
    {
     "data": {
      "image/png": "[encoded data removed]",
      "text/plain": [
       "<Figure size 432x288 with 1 Axes>"
      ]
     },
     "metadata": {
      "needs_background": "light"
     },
     "output_type": "display_data"
    }
   ],
   "source": [
    "sns.histplot(self_dr_car['steering'])"
   ]
  },
  {
   "cell_type": "code",
   "execution_count": 4,
   "metadata": {},
   "outputs": [
    {
     "data": {
      "text/plain": [
       "skew       -0.621652\n",
       "kurtosis    6.663585\n",
       "Name: steering, dtype: float64"
      ]
     },
     "execution_count": 4,
     "metadata": {},
     "output_type": "execute_result"
    }
   ],
   "source": [
    "self_dr_car['steering'].agg(['skew','kurtosis'])\n",
    "\n",
    "\n"
   ]
  },
  {
   "cell_type": "code",
   "execution_count": 7,
   "metadata": {},
   "outputs": [
    {
     "name": "stderr",
     "output_type": "stream",
     "text": [
      "C:\\Users\\DELL\\anaconda3\\lib\\site-packages\\seaborn\\_decorators.py:36: FutureWarning: Pass the following variable as a keyword arg: x. From version 0.12, the only valid positional argument will be `data`, and passing other arguments without an explicit keyword will result in an error or misinterpretation.\n",
      "  warnings.warn(\n"
     ]
    },
    {
     "data": {
      "text/plain": [
       "<AxesSubplot:xlabel='speed'>"
      ]
     },
     "execution_count": 7,
     "metadata": {},
     "output_type": "execute_result"
    },
    {
     "data": {
      "image/png": "[encoded data removed]",
      "text/plain": [
       "<Figure size 432x288 with 1 Axes>"
      ]
     },
     "metadata": {
      "needs_background": "light"
     },
     "output_type": "display_data"
    }
   ],
   "source": [
    "sns.boxplot(self_dr_car['speed'])"
   ]
  },
  {
   "cell_type": "code",
   "execution_count": 4,
   "metadata": {},
   "outputs": [
    {
     "data": {
      "text/html": [
       "<div>\n",
       "<style scoped>\n",
       "    .dataframe tbody tr th:only-of-type {\n",
       "        vertical-align: middle;\n",
       "    }\n",
       "\n",
       "    .dataframe tbody tr th {\n",
       "        vertical-align: top;\n",
       "    }\n",
       "\n",
       "    .dataframe thead th {\n",
       "        text-align: right;\n",
       "    }\n",
       "</style>\n",
       "<table border=\"1\" class=\"dataframe\">\n",
       "  <thead>\n",
       "    <tr style=\"text-align: right;\">\n",
       "      <th></th>\n",
       "      <th>steering</th>\n",
       "      <th>throttle</th>\n",
       "      <th>brake</th>\n",
       "      <th>speed</th>\n",
       "    </tr>\n",
       "  </thead>\n",
       "  <tbody>\n",
       "    <tr>\n",
       "      <th>steering</th>\n",
       "      <td>1.000000</td>\n",
       "      <td>-0.065245</td>\n",
       "      <td>-0.034831</td>\n",
       "      <td>-0.058835</td>\n",
       "    </tr>\n",
       "    <tr>\n",
       "      <th>throttle</th>\n",
       "      <td>-0.065245</td>\n",
       "      <td>1.000000</td>\n",
       "      <td>-0.222350</td>\n",
       "      <td>0.834727</td>\n",
       "    </tr>\n",
       "    <tr>\n",
       "      <th>brake</th>\n",
       "      <td>-0.034831</td>\n",
       "      <td>-0.222350</td>\n",
       "      <td>1.000000</td>\n",
       "      <td>-0.175568</td>\n",
       "    </tr>\n",
       "    <tr>\n",
       "      <th>speed</th>\n",
       "      <td>-0.058835</td>\n",
       "      <td>0.834727</td>\n",
       "      <td>-0.175568</td>\n",
       "      <td>1.000000</td>\n",
       "    </tr>\n",
       "  </tbody>\n",
       "</table>\n",
       "</div>"
      ],
      "text/plain": [
       "          steering  throttle     brake     speed\n",
       "steering  1.000000 -0.065245 -0.034831 -0.058835\n",
       "throttle -0.065245  1.000000 -0.222350  0.834727\n",
       "brake    -0.034831 -0.222350  1.000000 -0.175568\n",
       "speed    -0.058835  0.834727 -0.175568  1.000000"
      ]
     },
     "execution_count": 4,
     "metadata": {},
     "output_type": "execute_result"
    }
   ],
   "source": [
    "corr = self_dr_car.corr(method=\"pearson\") #you can use spearmean if you want \n",
    "corr"
   ]
  },
  {
   "cell_type": "code",
   "execution_count": 5,
   "metadata": {},
   "outputs": [
    {
     "data": {
      "text/plain": [
       "<AxesSubplot:>"
      ]
     },
     "execution_count": 5,
     "metadata": {},
     "output_type": "execute_result"
    },
    {
     "data": {
      "image/png": "[encoded data removed]",
      "text/plain": [
       "<Figure size 432x288 with 2 Axes>"
      ]
     },
     "metadata": {
      "needs_background": "light"
     },
     "output_type": "display_data"
    }
   ],
   "source": [
    "sns.heatmap(corr,annot=True)"
   ]
  },
  {
   "cell_type": "code",
   "execution_count": 6,
   "metadata": {},
   "outputs": [
    {
     "data": {
      "text/plain": [
       "<seaborn.axisgrid.PairGrid at 0x1a1fdef81c0>"
      ]
     },
     "execution_count": 6,
     "metadata": {},
     "output_type": "execute_result"
    },
    {
     "data": {
      "image/png": "[encoded data removed]",
      "text/plain": [
       "<Figure size 720x720 with 20 Axes>"
      ]
     },
     "metadata": {
      "needs_background": "light"
     },
     "output_type": "display_data"
    }
   ],
   "source": [
    "sns.pairplot(corr)"
   ]
  }
 ],
 "metadata": {
  "interpreter": {
   "hash": "cd8ac7ed5329ff1f59a8356dfddf06d159cf18414acbfd7b13d1d5cd1cbb5d7d"
  },
  "kernelspec": {
   "display_name": "Python 3.9.7 ('base')",
   "language": "python",
   "name": "python3"
  },
  "language_info": {
   "codemirror_mode": {
    "name": "ipython",
    "version": 3
   },
   "file_extension": ".py",
   "mimetype": "text/x-python",
   "name": "python",
   "nbconvert_exporter": "python",
   "pygments_lexer": "ipython3",
   "version": "3.9.7"
  },
  "orig_nbformat": 4
 },
 "nbformat": 4,
 "nbformat_minor": 2
}
